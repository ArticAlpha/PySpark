{
 "cells": [
  {
   "cell_type": "code",
   "execution_count": 0,
   "metadata": {
    "application/vnd.databricks.v1+cell": {
     "cellMetadata": {
      "byteLimit": 2048000,
      "rowLimit": 10000
     },
     "inputWidgets": {},
     "nuid": "71739f8f-00c6-4c93-8953-54bd1408973f",
     "showTitle": false,
     "title": ""
    }
   },
   "outputs": [],
   "source": [
    "from pyspark.sql.functions import sum, col, count, countDistinct\n",
    "\n",
    "class DataAnalyzer_flat:\n",
    "    def __init__(self,df:'Dataframe'):\n",
    "        self.df=df\n",
    "\n",
    "    def total_amount_by_customer(self)->'Dataframe':\n",
    "        total_amount_by_each_customer= self.df.groupBy('customer_name').agg(sum(\"price\").alias('total_amount_spent'))\n",
    "        return total_amount_by_each_customer\n",
    "    \n",
    "\n",
    "    def distinct_item_bought(self)->'Dataframe':\n",
    "        distinct_item_by_customer=self.df.groupBy('customer_name').agg(countDistinct('product_name'))\n",
    "        return distinct_item_by_customer\n",
    "    \n",
    "    \n",
    "    def customer_who_bought_mouse(self)->'Dataframe':\n",
    "        mouse_orders=self.df.groupBy(\"product_name\").agg(count(\"customer_id\").alias(\"total_customer\")).filter(col(\"product_name\")=='Mouse')\n",
    "        return mouse_orders\n",
    "\n",
    "\n"
   ]
  },
  {
   "cell_type": "code",
   "execution_count": 0,
   "metadata": {
    "application/vnd.databricks.v1+cell": {
     "cellMetadata": {
      "byteLimit": 2048000,
      "rowLimit": 10000
     },
     "inputWidgets": {},
     "nuid": "603d9e25-f98d-4f4d-ae36-9ab40353b055",
     "showTitle": false,
     "title": ""
    }
   },
   "outputs": [],
   "source": [
    "from pyspark.sql.functions import sum, col, count, countDistinct\n",
    "\n",
    "class DataAnalyzer_exploded:\n",
    "    def __init__(self,df:'Dataframe'):\n",
    "        self.df=df\n",
    "\n",
    "    def revenue_by_payment_method(self)->'Dataframe': # Group by payment method and calculate total revenue\n",
    "        total_revenue= self.df.groupBy(\"metadata.payment_method\").agg(sum(col('item.price')))\n",
    "        return total_revenue\n",
    "    \n",
    "\n",
    "   "
   ]
  },
  {
   "cell_type": "code",
   "execution_count": 0,
   "metadata": {
    "application/vnd.databricks.v1+cell": {
     "cellMetadata": {},
     "inputWidgets": {},
     "nuid": "ae4d9d83-cb34-4a3d-8466-8aa769b01b18",
     "showTitle": false,
     "title": ""
    }
   },
   "outputs": [],
   "source": []
  }
 ],
 "metadata": {
  "application/vnd.databricks.v1+notebook": {
   "dashboards": [],
   "environmentMetadata": null,
   "language": "python",
   "notebookMetadata": {
    "pythonIndentUnit": 4
   },
   "notebookName": "Data_Analyzer",
   "widgets": {}
  }
 },
 "nbformat": 4,
 "nbformat_minor": 0
}
