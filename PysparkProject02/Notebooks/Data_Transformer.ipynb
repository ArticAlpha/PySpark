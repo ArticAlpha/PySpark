{
 "cells": [
  {
   "cell_type": "code",
   "execution_count": 0,
   "metadata": {
    "application/vnd.databricks.v1+cell": {
     "cellMetadata": {
      "byteLimit": 2048000,
      "rowLimit": 10000
     },
     "inputWidgets": {},
     "nuid": "9f7bd89f-6123-44e2-b7db-9028398c26e3",
     "showTitle": false,
     "title": ""
    }
   },
   "outputs": [],
   "source": [
    "from pyspark.sql.functions import explode, col\n",
    "class DataTransformer:\n",
    "    \n",
    "    def __init__(self,df:'Dataframe'):\n",
    "        self.df=df\n",
    "\n",
    "    def exploded_df(self)->'Dataframe':\n",
    "        try:\n",
    "            explode_df = self.df.withColumn(\"item\", explode(\"items\"))\n",
    "            return explode_df\n",
    "        except Exception as e:\n",
    "            print(f\"Error exploding items column: {e}\")\n",
    "            return None\n",
    "    \n",
    "    def flattened_df(self)->'Dataframe':\n",
    "        try:\n",
    "            flat_df= self.exploded_df().select(\n",
    "                col(\"order_id\"),\n",
    "                col(\"customer.customer_id\"),\n",
    "                col(\"customer.name\").alias(\"customer_name\"),\n",
    "                col(\"customer.address.street\").alias(\"street\"),\n",
    "                col(\"customer.address.city\").alias(\"city\"),\n",
    "                col(\"customer.address.state\").alias(\"state\"),\n",
    "                col(\"item.item_id\"),\n",
    "                col(\"item.product_name\"),\n",
    "                col(\"item.quantity\"),\n",
    "                col(\"item.price\"),\n",
    "                col(\"order_date\"),\n",
    "                col(\"metadata.payment_method\"),\n",
    "                col(\"metadata.delivery_status\"))\n",
    "            return flat_df\n",
    "        except Exception as e:\n",
    "            print(f\"Error flattening DataFrame: {e}\")\n",
    "            return None"
   ]
  },
  {
   "cell_type": "code",
   "execution_count": 0,
   "metadata": {
    "application/vnd.databricks.v1+cell": {
     "cellMetadata": {},
     "inputWidgets": {},
     "nuid": "9752d078-5c32-4275-8df9-0c603b5f7b37",
     "showTitle": false,
     "title": ""
    }
   },
   "outputs": [],
   "source": []
  }
 ],
 "metadata": {
  "application/vnd.databricks.v1+notebook": {
   "dashboards": [],
   "environmentMetadata": null,
   "language": "python",
   "notebookMetadata": {
    "pythonIndentUnit": 4
   },
   "notebookName": "Data_Transformer",
   "widgets": {}
  }
 },
 "nbformat": 4,
 "nbformat_minor": 0
}
