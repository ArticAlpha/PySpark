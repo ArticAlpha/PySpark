{
 "cells": [
  {
   "cell_type": "code",
   "execution_count": 0,
   "metadata": {
    "application/vnd.databricks.v1+cell": {
     "cellMetadata": {
      "byteLimit": 2048000,
      "rowLimit": 10000
     },
     "inputWidgets": {},
     "nuid": "b69a5478-64fb-45de-9e19-c3dd833a8c12",
     "showTitle": false,
     "title": ""
    }
   },
   "outputs": [],
   "source": [
    "%run /Users/sunnynuri12@gmail.com/Big_project_01/Data_Loader"
   ]
  },
  {
   "cell_type": "code",
   "execution_count": 0,
   "metadata": {
    "application/vnd.databricks.v1+cell": {
     "cellMetadata": {
      "byteLimit": 2048000,
      "rowLimit": 10000
     },
     "inputWidgets": {},
     "nuid": "428a2281-5afb-445e-8109-1c55a6b2804b",
     "showTitle": false,
     "title": ""
    }
   },
   "outputs": [],
   "source": [
    "##calling Data Loader\n",
    "dl=DataLoader(\"/FileStore/Big_Proj_01/Bronze_Layer/Insurance_Company.csv\")\n",
    "return_df=dl.create_df()"
   ]
  },
  {
   "cell_type": "code",
   "execution_count": 0,
   "metadata": {
    "application/vnd.databricks.v1+cell": {
     "cellMetadata": {
      "byteLimit": 2048000,
      "rowLimit": 10000
     },
     "inputWidgets": {},
     "nuid": "bebaa3e6-4be1-41e0-bc69-7767871c7739",
     "showTitle": false,
     "title": ""
    }
   },
   "outputs": [
    {
     "output_type": "display_data",
     "data": {
      "text/html": [
       "<style scoped>\n",
       "  .table-result-container {\n",
       "    max-height: 300px;\n",
       "    overflow: auto;\n",
       "  }\n",
       "  table, th, td {\n",
       "    border: 1px solid black;\n",
       "    border-collapse: collapse;\n",
       "  }\n",
       "  th, td {\n",
       "    padding: 5px;\n",
       "  }\n",
       "  th {\n",
       "    text-align: left;\n",
       "  }\n",
       "</style><div class='table-result-container'><table class='table-result'><thead style='background-color: white'><tr><th>Company</th><th>File No.</th><th>Opened</th><th>Closed</th><th>Coverage</th><th>SubCoverage</th><th>Reason</th><th>SubReason</th><th>Disposition</th><th>Conclusion</th><th>Recovery</th><th>Status</th></tr></thead><tbody><tr><td>Anthem Health Plans, Inc</td><td>7045593</td><td>05/31/2022</td><td>06/02/2022</td><td>Group</td><td>Health Only</td><td>Claim Handling</td><td>Medically Necessary</td><td>Company Position Substantiated</td><td>Company Position Upheld</td><td>0.00</td><td>Closed</td></tr><tr><td>Anthem Health Plans, Inc</td><td>7043381</td><td>02/28/2022</td><td>06/02/2022</td><td>Group</td><td>Health Only</td><td>Claim Handling</td><td>Provider Contract Issue</td><td>Claim Settled</td><td>Satisfied</td><td>6467.30</td><td>Closed</td></tr><tr><td>Anthem Health Plans, Inc</td><td>7044860</td><td>05/03/2022</td><td>06/02/2022</td><td>A & H</td><td>Health Only</td><td>Claim Handling</td><td>Denial</td><td>Claim Settled</td><td>Claim Paid</td><td>147.58</td><td>Closed</td></tr><tr><td>Anthem Health Plans, Inc</td><td>7043381</td><td>02/28/2022</td><td>06/02/2022</td><td>Group</td><td>A & H</td><td>Claim Handling</td><td>Provider Contract Issue</td><td>Claim Settled</td><td>Satisfied</td><td>6467.30</td><td>Closed</td></tr><tr><td>Anthem Health Plans, Inc</td><td>7052007</td><td>02/23/2023</td><td>03/17/2023</td><td>A & H</td><td>A & H</td><td>Marketing & Sales</td><td>Duplicate Coverage</td><td>Compromised Settlement/Resolution</td><td>Premium Refund</td><td>2179.32</td><td>Closed</td></tr><tr><td>Oxford Health Plans (CT), Inc</td><td>7054762</td><td>06/01/2023</td><td>08/02/2023</td><td>A & H</td><td>Health Only</td><td>Claim Handling</td><td>External Review</td><td>null</td><td>null</td><td>0.00</td><td>Closed</td></tr><tr><td>Anthem Health Plans, Inc</td><td>7056001</td><td>07/24/2023</td><td>08/02/2023</td><td>A & H</td><td>Health Only</td><td>Claim Handling</td><td>Denial</td><td>Company Position Substantiated</td><td>Company Position Upheld</td><td>0.00</td><td>Closed</td></tr><tr><td>Metropolitan Life Insurance Company</td><td>7053748</td><td>04/26/2023</td><td>05/02/2023</td><td>Individual</td><td>Long Term Care</td><td>PolicyHolder Service</td><td>Premium/Notice</td><td>null</td><td>Rate Increase Explained</td><td>0.00</td><td>Closed</td></tr><tr><td>Cigna Health and Life Insurance Company</td><td>7055648</td><td>07/10/2023</td><td>08/02/2023</td><td>A & H</td><td>A & H</td><td>PolicyHolder Service</td><td>Policy Information</td><td>Company Position Substantiated</td><td>Provider Issue</td><td>0.00</td><td>Closed</td></tr><tr><td>Anthem Health Plans, Inc</td><td>7044860</td><td>05/03/2022</td><td>06/02/2022</td><td>A & H</td><td>A & H</td><td>Claim Handling</td><td>Denial</td><td>Claim Settled</td><td>Claim Paid</td><td>147.58</td><td>Closed</td></tr></tbody></table></div>"
      ]
     },
     "metadata": {
      "application/vnd.databricks.v1+output": {
       "addedWidgets": {},
       "aggData": [],
       "aggError": "",
       "aggOverflow": false,
       "aggSchema": [],
       "aggSeriesLimitReached": false,
       "aggType": "",
       "arguments": {},
       "columnCustomDisplayInfos": {},
       "data": [
        [
         "Anthem Health Plans, Inc",
         "7045593",
         "05/31/2022",
         "06/02/2022",
         "Group",
         "Health Only",
         "Claim Handling",
         "Medically Necessary",
         "Company Position Substantiated",
         "Company Position Upheld",
         "0.00",
         "Closed"
        ],
        [
         "Anthem Health Plans, Inc",
         "7043381",
         "02/28/2022",
         "06/02/2022",
         "Group",
         "Health Only",
         "Claim Handling",
         "Provider Contract Issue",
         "Claim Settled",
         "Satisfied",
         "6467.30",
         "Closed"
        ],
        [
         "Anthem Health Plans, Inc",
         "7044860",
         "05/03/2022",
         "06/02/2022",
         "A & H",
         "Health Only",
         "Claim Handling",
         "Denial",
         "Claim Settled",
         "Claim Paid",
         "147.58",
         "Closed"
        ],
        [
         "Anthem Health Plans, Inc",
         "7043381",
         "02/28/2022",
         "06/02/2022",
         "Group",
         "A & H",
         "Claim Handling",
         "Provider Contract Issue",
         "Claim Settled",
         "Satisfied",
         "6467.30",
         "Closed"
        ],
        [
         "Anthem Health Plans, Inc",
         "7052007",
         "02/23/2023",
         "03/17/2023",
         "A & H",
         "A & H",
         "Marketing & Sales",
         "Duplicate Coverage",
         "Compromised Settlement/Resolution",
         "Premium Refund",
         "2179.32",
         "Closed"
        ],
        [
         "Oxford Health Plans (CT), Inc",
         "7054762",
         "06/01/2023",
         "08/02/2023",
         "A & H",
         "Health Only",
         "Claim Handling",
         "External Review",
         null,
         null,
         "0.00",
         "Closed"
        ],
        [
         "Anthem Health Plans, Inc",
         "7056001",
         "07/24/2023",
         "08/02/2023",
         "A & H",
         "Health Only",
         "Claim Handling",
         "Denial",
         "Company Position Substantiated",
         "Company Position Upheld",
         "0.00",
         "Closed"
        ],
        [
         "Metropolitan Life Insurance Company",
         "7053748",
         "04/26/2023",
         "05/02/2023",
         "Individual",
         "Long Term Care",
         "PolicyHolder Service",
         "Premium/Notice",
         null,
         "Rate Increase Explained",
         "0.00",
         "Closed"
        ],
        [
         "Cigna Health and Life Insurance Company",
         "7055648",
         "07/10/2023",
         "08/02/2023",
         "A & H",
         "A & H",
         "PolicyHolder Service",
         "Policy Information",
         "Company Position Substantiated",
         "Provider Issue",
         "0.00",
         "Closed"
        ],
        [
         "Anthem Health Plans, Inc",
         "7044860",
         "05/03/2022",
         "06/02/2022",
         "A & H",
         "A & H",
         "Claim Handling",
         "Denial",
         "Claim Settled",
         "Claim Paid",
         "147.58",
         "Closed"
        ]
       ],
       "datasetInfos": [],
       "dbfsResultPath": null,
       "isJsonSchema": true,
       "metadata": {},
       "overflow": false,
       "plotOptions": {
        "customPlotOptions": {},
        "displayType": "table",
        "pivotAggregation": null,
        "pivotColumns": null,
        "xColumns": null,
        "yColumns": null
       },
       "removedWidgets": [],
       "schema": [
        {
         "metadata": "{}",
         "name": "Company",
         "type": "\"string\""
        },
        {
         "metadata": "{}",
         "name": "File No.",
         "type": "\"string\""
        },
        {
         "metadata": "{}",
         "name": "Opened",
         "type": "\"string\""
        },
        {
         "metadata": "{}",
         "name": "Closed",
         "type": "\"string\""
        },
        {
         "metadata": "{}",
         "name": "Coverage",
         "type": "\"string\""
        },
        {
         "metadata": "{}",
         "name": "SubCoverage",
         "type": "\"string\""
        },
        {
         "metadata": "{}",
         "name": "Reason",
         "type": "\"string\""
        },
        {
         "metadata": "{}",
         "name": "SubReason",
         "type": "\"string\""
        },
        {
         "metadata": "{}",
         "name": "Disposition",
         "type": "\"string\""
        },
        {
         "metadata": "{}",
         "name": "Conclusion",
         "type": "\"string\""
        },
        {
         "metadata": "{}",
         "name": "Recovery",
         "type": "\"string\""
        },
        {
         "metadata": "{}",
         "name": "Status",
         "type": "\"string\""
        }
       ],
       "type": "table"
      }
     },
     "output_type": "display_data"
    }
   ],
   "source": [
    "## getting a df from loader and cleaning the data.\n",
    "class DataCleaning():\n",
    "\n",
    "    ## init method\n",
    "    def __init__(self,df:'Dataframe'):\n",
    "        self.df=df\n",
    "\n",
    "    def clean_data(self):\n",
    "        clean_df=self.df\n",
    "        \n",
    "    "
   ]
  },
  {
   "cell_type": "code",
   "execution_count": 0,
   "metadata": {
    "application/vnd.databricks.v1+cell": {
     "cellMetadata": {},
     "inputWidgets": {},
     "nuid": "126f0f82-5e3c-4786-a047-bb990c6b8e9f",
     "showTitle": false,
     "title": ""
    }
   },
   "outputs": [],
   "source": [
    "dc=DataCleaning(return_df)\n",
    "get_data=dc.clean_data()\n",
    "\n",
    "get_data.limit(10).display()"
   ]
  },
  {
   "cell_type": "code",
   "execution_count": 0,
   "metadata": {
    "application/vnd.databricks.v1+cell": {
     "cellMetadata": {
      "byteLimit": 2048000,
      "rowLimit": 10000
     },
     "inputWidgets": {},
     "nuid": "d3f4cbd1-5bde-49e9-846d-3c1ce4ef9327",
     "showTitle": false,
     "title": ""
    }
   },
   "outputs": [
    {
     "output_type": "display_data",
     "data": {
      "text/html": [
       "<style scoped>\n",
       "  .table-result-container {\n",
       "    max-height: 300px;\n",
       "    overflow: auto;\n",
       "  }\n",
       "  table, th, td {\n",
       "    border: 1px solid black;\n",
       "    border-collapse: collapse;\n",
       "  }\n",
       "  th, td {\n",
       "    padding: 5px;\n",
       "  }\n",
       "  th {\n",
       "    text-align: left;\n",
       "  }\n",
       "</style><div class='table-result-container'><table class='table-result'><thead style='background-color: white'><tr><th>Company</th><th>File No.</th><th>Opened</th><th>Closed</th><th>Coverage</th><th>SubCoverage</th><th>Reason</th><th>SubReason</th><th>Disposition</th><th>Conclusion</th><th>Recovery</th><th>Status</th></tr></thead><tbody><tr><td>Anthem Health Plans, Inc</td><td>7045593</td><td>05/31/2022</td><td>06/02/2022</td><td>Group</td><td>Health Only</td><td>Claim Handling</td><td>Medically Necessary</td><td>Company Position Substantiated</td><td>Company Position Upheld</td><td>0.00</td><td>Closed</td></tr><tr><td>Anthem Health Plans, Inc</td><td>7043381</td><td>02/28/2022</td><td>06/02/2022</td><td>Group</td><td>Health Only</td><td>Claim Handling</td><td>Provider Contract Issue</td><td>Claim Settled</td><td>Satisfied</td><td>6467.30</td><td>Closed</td></tr></tbody></table></div>"
      ]
     },
     "metadata": {
      "application/vnd.databricks.v1+output": {
       "addedWidgets": {},
       "aggData": [],
       "aggError": "",
       "aggOverflow": false,
       "aggSchema": [],
       "aggSeriesLimitReached": false,
       "aggType": "",
       "arguments": {},
       "columnCustomDisplayInfos": {},
       "data": [
        [
         "Anthem Health Plans, Inc",
         "7045593",
         "05/31/2022",
         "06/02/2022",
         "Group",
         "Health Only",
         "Claim Handling",
         "Medically Necessary",
         "Company Position Substantiated",
         "Company Position Upheld",
         "0.00",
         "Closed"
        ],
        [
         "Anthem Health Plans, Inc",
         "7043381",
         "02/28/2022",
         "06/02/2022",
         "Group",
         "Health Only",
         "Claim Handling",
         "Provider Contract Issue",
         "Claim Settled",
         "Satisfied",
         "6467.30",
         "Closed"
        ]
       ],
       "datasetInfos": [],
       "dbfsResultPath": null,
       "isJsonSchema": true,
       "metadata": {},
       "overflow": false,
       "plotOptions": {
        "customPlotOptions": {},
        "displayType": "table",
        "pivotAggregation": null,
        "pivotColumns": null,
        "xColumns": null,
        "yColumns": null
       },
       "removedWidgets": [],
       "schema": [
        {
         "metadata": "{}",
         "name": "Company",
         "type": "\"string\""
        },
        {
         "metadata": "{}",
         "name": "File No.",
         "type": "\"string\""
        },
        {
         "metadata": "{}",
         "name": "Opened",
         "type": "\"string\""
        },
        {
         "metadata": "{}",
         "name": "Closed",
         "type": "\"string\""
        },
        {
         "metadata": "{}",
         "name": "Coverage",
         "type": "\"string\""
        },
        {
         "metadata": "{}",
         "name": "SubCoverage",
         "type": "\"string\""
        },
        {
         "metadata": "{}",
         "name": "Reason",
         "type": "\"string\""
        },
        {
         "metadata": "{}",
         "name": "SubReason",
         "type": "\"string\""
        },
        {
         "metadata": "{}",
         "name": "Disposition",
         "type": "\"string\""
        },
        {
         "metadata": "{}",
         "name": "Conclusion",
         "type": "\"string\""
        },
        {
         "metadata": "{}",
         "name": "Recovery",
         "type": "\"string\""
        },
        {
         "metadata": "{}",
         "name": "Status",
         "type": "\"string\""
        }
       ],
       "type": "table"
      }
     },
     "output_type": "display_data"
    }
   ],
   "source": [
    "return_df.limit(2).display()"
   ]
  },
  {
   "cell_type": "code",
   "execution_count": 0,
   "metadata": {
    "application/vnd.databricks.v1+cell": {
     "cellMetadata": {
      "byteLimit": 2048000,
      "rowLimit": 10000
     },
     "inputWidgets": {},
     "nuid": "730454a9-28bd-443a-9a60-2a98ba64e413",
     "showTitle": false,
     "title": ""
    }
   },
   "outputs": [
    {
     "output_type": "display_data",
     "data": {
      "text/html": [
       "<style scoped>\n",
       "  .table-result-container {\n",
       "    max-height: 300px;\n",
       "    overflow: auto;\n",
       "  }\n",
       "  table, th, td {\n",
       "    border: 1px solid black;\n",
       "    border-collapse: collapse;\n",
       "  }\n",
       "  th, td {\n",
       "    padding: 5px;\n",
       "  }\n",
       "  th {\n",
       "    text-align: left;\n",
       "  }\n",
       "</style><div class='table-result-container'><table class='table-result'><thead style='background-color: white'><tr><th>Company</th><th>File No.</th><th>Opened</th><th>Closed</th><th>Coverage</th><th>SubCoverage</th><th>Reason</th><th>SubReason</th><th>Disposition</th><th>Conclusion</th><th>Recovery</th><th>Status</th></tr></thead><tbody><tr><td>Anthem Health Plans, Inc</td><td>7045593</td><td>05/31/2022</td><td>06/02/2022</td><td>Group</td><td>Health Only</td><td>Claim Handling</td><td>Medically Necessary</td><td>Company Position Substantiated</td><td>Company Position Upheld</td><td>0.00</td><td>Closed</td></tr><tr><td>Anthem Health Plans, Inc</td><td>7043381</td><td>02/28/2022</td><td>06/02/2022</td><td>Group</td><td>Health Only</td><td>Claim Handling</td><td>Provider Contract Issue</td><td>Claim Settled</td><td>Satisfied</td><td>6467.30</td><td>Closed</td></tr></tbody></table></div>"
      ]
     },
     "metadata": {
      "application/vnd.databricks.v1+output": {
       "addedWidgets": {},
       "aggData": [],
       "aggError": "",
       "aggOverflow": false,
       "aggSchema": [],
       "aggSeriesLimitReached": false,
       "aggType": "",
       "arguments": {},
       "columnCustomDisplayInfos": {},
       "data": [
        [
         "Anthem Health Plans, Inc",
         "7045593",
         "05/31/2022",
         "06/02/2022",
         "Group",
         "Health Only",
         "Claim Handling",
         "Medically Necessary",
         "Company Position Substantiated",
         "Company Position Upheld",
         "0.00",
         "Closed"
        ],
        [
         "Anthem Health Plans, Inc",
         "7043381",
         "02/28/2022",
         "06/02/2022",
         "Group",
         "Health Only",
         "Claim Handling",
         "Provider Contract Issue",
         "Claim Settled",
         "Satisfied",
         "6467.30",
         "Closed"
        ]
       ],
       "datasetInfos": [],
       "dbfsResultPath": null,
       "isJsonSchema": true,
       "metadata": {},
       "overflow": false,
       "plotOptions": {
        "customPlotOptions": {},
        "displayType": "table",
        "pivotAggregation": null,
        "pivotColumns": null,
        "xColumns": null,
        "yColumns": null
       },
       "removedWidgets": [],
       "schema": [
        {
         "metadata": "{}",
         "name": "Company",
         "type": "\"string\""
        },
        {
         "metadata": "{}",
         "name": "File No.",
         "type": "\"string\""
        },
        {
         "metadata": "{}",
         "name": "Opened",
         "type": "\"string\""
        },
        {
         "metadata": "{}",
         "name": "Closed",
         "type": "\"string\""
        },
        {
         "metadata": "{}",
         "name": "Coverage",
         "type": "\"string\""
        },
        {
         "metadata": "{}",
         "name": "SubCoverage",
         "type": "\"string\""
        },
        {
         "metadata": "{}",
         "name": "Reason",
         "type": "\"string\""
        },
        {
         "metadata": "{}",
         "name": "SubReason",
         "type": "\"string\""
        },
        {
         "metadata": "{}",
         "name": "Disposition",
         "type": "\"string\""
        },
        {
         "metadata": "{}",
         "name": "Conclusion",
         "type": "\"string\""
        },
        {
         "metadata": "{}",
         "name": "Recovery",
         "type": "\"string\""
        },
        {
         "metadata": "{}",
         "name": "Status",
         "type": "\"string\""
        }
       ],
       "type": "table"
      }
     },
     "output_type": "display_data"
    }
   ],
   "source": [
    "## creating a schema for raw data\n",
    "\n",
    "return_df.limit(2).display()\n",
    "\n"
   ]
  },
  {
   "cell_type": "code",
   "execution_count": 0,
   "metadata": {
    "application/vnd.databricks.v1+cell": {
     "cellMetadata": {},
     "inputWidgets": {},
     "nuid": "f7f9cb54-d1b5-4311-b7f1-6bc9333c897b",
     "showTitle": false,
     "title": ""
    }
   },
   "outputs": [],
   "source": []
  }
 ],
 "metadata": {
  "application/vnd.databricks.v1+notebook": {
   "dashboards": [],
   "environmentMetadata": null,
   "language": "python",
   "notebookMetadata": {
    "pythonIndentUnit": 4
   },
   "notebookName": "Data_transformer",
   "widgets": {}
  }
 },
 "nbformat": 4,
 "nbformat_minor": 0
}
