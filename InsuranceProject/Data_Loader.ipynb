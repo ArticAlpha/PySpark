{
 "cells": [
  {
   "cell_type": "code",
   "execution_count": 0,
   "metadata": {
    "application/vnd.databricks.v1+cell": {
     "cellMetadata": {},
     "inputWidgets": {},
     "nuid": "53adb3b4-5818-4321-b765-c581f97390fb",
     "showTitle": false,
     "title": ""
    }
   },
   "outputs": [],
   "source": [
    "## setup error logging as well"
   ]
  },
  {
   "cell_type": "code",
   "execution_count": 0,
   "metadata": {
    "application/vnd.databricks.v1+cell": {
     "cellMetadata": {
      "byteLimit": 2048000,
      "rowLimit": 10000
     },
     "inputWidgets": {},
     "nuid": "39959150-6174-4b82-a4d8-7b419ce96ec6",
     "showTitle": false,
     "title": ""
    }
   },
   "outputs": [],
   "source": [
    "from pyspark.sql.types import StructType, StructField, IntegerType, StringType, DateType, FloatType\n",
    "\n",
    "\n",
    "class DataLoader():\n",
    "    def __init__(self,path):\n",
    "        self.path=path\n",
    "\n",
    "    def create_df(self):\n",
    "\n",
    "        raw_schema=StructType([\n",
    "        StructField(\"Company\", StringType(), False),\n",
    "        StructField(\"FileNo\", IntegerType(), False),\n",
    "        StructField(\"Opened\", StringType(), False),\n",
    "        StructField(\"Closed\", StringType(), True),\n",
    "        StructField(\"Coverage\", StringType(), True),\n",
    "        StructField(\"SubCoverage\", StringType(), True),\n",
    "        StructField(\"Reason\", StringType(), True),\n",
    "        StructField(\"SubReason\", StringType(), True),\n",
    "        StructField(\"Disposition\", StringType(), True),\n",
    "        StructField(\"Conclusion\", StringType(), True),\n",
    "        StructField(\"Recovery\", FloatType(), True),\n",
    "        StructField(\"Status\", StringType(), False)\n",
    "        ])\n",
    "        try:\n",
    "            raw_df=spark.read.format(\"csv\").options(header=True).schema(raw_schema).load(self.path)\n",
    "            return raw_df\n",
    "        except Exception as e:  ##post the exception print an error msg and add the actual error in a log file\n",
    "            print(f\"Error loading JSON file from {self.path}: {e}\")\n",
    "            return None\n",
    "    "
   ]
  },
  {
   "cell_type": "code",
   "execution_count": 0,
   "metadata": {
    "application/vnd.databricks.v1+cell": {
     "cellMetadata": {},
     "inputWidgets": {},
     "nuid": "bd43573c-2f12-44ab-9ca7-1fd120e6814c",
     "showTitle": false,
     "title": ""
    }
   },
   "outputs": [],
   "source": []
  }
 ],
 "metadata": {
  "application/vnd.databricks.v1+notebook": {
   "dashboards": [],
   "environmentMetadata": null,
   "language": "python",
   "notebookMetadata": {
    "pythonIndentUnit": 4
   },
   "notebookName": "Data_Loader",
   "widgets": {}
  }
 },
 "nbformat": 4,
 "nbformat_minor": 0
}
