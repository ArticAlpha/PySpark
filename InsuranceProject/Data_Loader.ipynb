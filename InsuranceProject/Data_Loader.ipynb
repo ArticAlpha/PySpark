{
 "cells": [
  {
   "cell_type": "code",
   "execution_count": 0,
   "metadata": {
    "application/vnd.databricks.v1+cell": {
     "cellMetadata": {},
     "inputWidgets": {},
     "nuid": "53adb3b4-5818-4321-b765-c581f97390fb",
     "showTitle": false,
     "title": ""
    }
   },
   "outputs": [],
   "source": [
    "## setup error logging as well"
   ]
  },
  {
   "cell_type": "code",
   "execution_count": 0,
   "metadata": {
    "application/vnd.databricks.v1+cell": {
     "cellMetadata": {
      "byteLimit": 2048000,
      "rowLimit": 10000
     },
     "inputWidgets": {},
     "nuid": "39959150-6174-4b82-a4d8-7b419ce96ec6",
     "showTitle": false,
     "title": ""
    }
   },
   "outputs": [],
   "source": [
    "from pyspark.sql.types import StructType, StructField, IntegerType, StringType, DateType, FloatType\n",
    "\n",
    "\n",
    "class DataLoader():\n",
    "    def __init__(self,path):\n",
    "        self.path=path\n",
    "\n",
    "    def create_df(self):\n",
    "\n",
    "        raw_schema=StructType([\n",
    "        StructField(\"Company\", StringType(), False),\n",
    "        StructField(\"FileNo\", IntegerType(), False),\n",
    "        StructField(\"Opened\", DateType(), False),\n",
    "        StructField(\"Closed\", DateType(), True),\n",
    "        StructField(\"Coverage\", StringType(), True),\n",
    "        StructField(\"SubCoverage\", StringType(), True),\n",
    "        StructField(\"Reason\", StringType(), True),\n",
    "        StructField(\"SubReason\", StringType(), True),\n",
    "        StructField(\"Disposition\", StringType(), True),\n",
    "        StructField(\"Conslusion\", StringType(), True),\n",
    "        StructField(\"Recovery\", FloatType(), True),\n",
    "        StructField(\"Status\", StringType(), False)\n",
    "        ])\n",
    "        try:\n",
    "            raw_df=spark.read.format(\"csv\").options(header=True).schema(raw_schema).load(self.path)\n",
    "            return raw_df\n",
    "        except Exception as e:  ##post the exception print an error msg and add the actual error in a log file\n",
    "            print(f\"Error loading JSON file from {self.path}: {e}\")\n",
    "            return None\n",
    "    "
   ]
  },
  {
   "cell_type": "code",
   "execution_count": 0,
   "metadata": {
    "application/vnd.databricks.v1+cell": {
     "cellMetadata": {
      "byteLimit": 2048000,
      "rowLimit": 10000
     },
     "inputWidgets": {},
     "nuid": "ee43c4da-30b2-438b-90c3-1f56e3ce824a",
     "showTitle": false,
     "title": ""
    }
   },
   "outputs": [
    {
     "output_type": "display_data",
     "data": {
      "text/html": [
       "<style scoped>\n",
       "  .table-result-container {\n",
       "    max-height: 300px;\n",
       "    overflow: auto;\n",
       "  }\n",
       "  table, th, td {\n",
       "    border: 1px solid black;\n",
       "    border-collapse: collapse;\n",
       "  }\n",
       "  th, td {\n",
       "    padding: 5px;\n",
       "  }\n",
       "  th {\n",
       "    text-align: left;\n",
       "  }\n",
       "</style><div class='table-result-container'><table class='table-result'><thead style='background-color: white'><tr><th>Company</th><th>FileNo</th><th>Opened</th><th>Closed</th><th>Coverage</th><th>SubCoverage</th><th>Reason</th><th>SubReason</th><th>Disposition</th><th>Conslusion</th><th>Recovery</th><th>Status</th></tr></thead><tbody><tr><td>Anthem Health Plans, Inc</td><td>7045593</td><td>null</td><td>null</td><td>Group</td><td>Health Only</td><td>Claim Handling</td><td>Medically Necessary</td><td>Company Position Substantiated</td><td>Company Position Upheld</td><td>0.0</td><td>Closed</td></tr><tr><td>Anthem Health Plans, Inc</td><td>7043381</td><td>null</td><td>null</td><td>Group</td><td>Health Only</td><td>Claim Handling</td><td>Provider Contract Issue</td><td>Claim Settled</td><td>Satisfied</td><td>6467.3</td><td>Closed</td></tr><tr><td>Anthem Health Plans, Inc</td><td>7044860</td><td>null</td><td>null</td><td>A & H</td><td>Health Only</td><td>Claim Handling</td><td>Denial</td><td>Claim Settled</td><td>Claim Paid</td><td>147.58</td><td>Closed</td></tr><tr><td>Anthem Health Plans, Inc</td><td>7043381</td><td>null</td><td>null</td><td>Group</td><td>A & H</td><td>Claim Handling</td><td>Provider Contract Issue</td><td>Claim Settled</td><td>Satisfied</td><td>6467.3</td><td>Closed</td></tr><tr><td>Anthem Health Plans, Inc</td><td>7052007</td><td>null</td><td>null</td><td>A & H</td><td>A & H</td><td>Marketing & Sales</td><td>Duplicate Coverage</td><td>Compromised Settlement/Resolution</td><td>Premium Refund</td><td>2179.32</td><td>Closed</td></tr><tr><td>Oxford Health Plans (CT), Inc</td><td>7054762</td><td>null</td><td>null</td><td>A & H</td><td>Health Only</td><td>Claim Handling</td><td>External Review</td><td>null</td><td>null</td><td>0.0</td><td>Closed</td></tr><tr><td>Anthem Health Plans, Inc</td><td>7056001</td><td>null</td><td>null</td><td>A & H</td><td>Health Only</td><td>Claim Handling</td><td>Denial</td><td>Company Position Substantiated</td><td>Company Position Upheld</td><td>0.0</td><td>Closed</td></tr><tr><td>Metropolitan Life Insurance Company</td><td>7053748</td><td>null</td><td>null</td><td>Individual</td><td>Long Term Care</td><td>PolicyHolder Service</td><td>Premium/Notice</td><td>null</td><td>Rate Increase Explained</td><td>0.0</td><td>Closed</td></tr><tr><td>Cigna Health and Life Insurance Company</td><td>7055648</td><td>null</td><td>null</td><td>A & H</td><td>A & H</td><td>PolicyHolder Service</td><td>Policy Information</td><td>Company Position Substantiated</td><td>Provider Issue</td><td>0.0</td><td>Closed</td></tr><tr><td>Anthem Health Plans, Inc</td><td>7044860</td><td>null</td><td>null</td><td>A & H</td><td>A & H</td><td>Claim Handling</td><td>Denial</td><td>Claim Settled</td><td>Claim Paid</td><td>147.58</td><td>Closed</td></tr></tbody></table></div>"
      ]
     },
     "metadata": {
      "application/vnd.databricks.v1+output": {
       "addedWidgets": {},
       "aggData": [],
       "aggError": "",
       "aggOverflow": false,
       "aggSchema": [],
       "aggSeriesLimitReached": false,
       "aggType": "",
       "arguments": {},
       "columnCustomDisplayInfos": {},
       "data": [
        [
         "Anthem Health Plans, Inc",
         7045593,
         null,
         null,
         "Group",
         "Health Only",
         "Claim Handling",
         "Medically Necessary",
         "Company Position Substantiated",
         "Company Position Upheld",
         0.0,
         "Closed"
        ],
        [
         "Anthem Health Plans, Inc",
         7043381,
         null,
         null,
         "Group",
         "Health Only",
         "Claim Handling",
         "Provider Contract Issue",
         "Claim Settled",
         "Satisfied",
         6467.3,
         "Closed"
        ],
        [
         "Anthem Health Plans, Inc",
         7044860,
         null,
         null,
         "A & H",
         "Health Only",
         "Claim Handling",
         "Denial",
         "Claim Settled",
         "Claim Paid",
         147.58,
         "Closed"
        ],
        [
         "Anthem Health Plans, Inc",
         7043381,
         null,
         null,
         "Group",
         "A & H",
         "Claim Handling",
         "Provider Contract Issue",
         "Claim Settled",
         "Satisfied",
         6467.3,
         "Closed"
        ],
        [
         "Anthem Health Plans, Inc",
         7052007,
         null,
         null,
         "A & H",
         "A & H",
         "Marketing & Sales",
         "Duplicate Coverage",
         "Compromised Settlement/Resolution",
         "Premium Refund",
         2179.32,
         "Closed"
        ],
        [
         "Oxford Health Plans (CT), Inc",
         7054762,
         null,
         null,
         "A & H",
         "Health Only",
         "Claim Handling",
         "External Review",
         null,
         null,
         0.0,
         "Closed"
        ],
        [
         "Anthem Health Plans, Inc",
         7056001,
         null,
         null,
         "A & H",
         "Health Only",
         "Claim Handling",
         "Denial",
         "Company Position Substantiated",
         "Company Position Upheld",
         0.0,
         "Closed"
        ],
        [
         "Metropolitan Life Insurance Company",
         7053748,
         null,
         null,
         "Individual",
         "Long Term Care",
         "PolicyHolder Service",
         "Premium/Notice",
         null,
         "Rate Increase Explained",
         0.0,
         "Closed"
        ],
        [
         "Cigna Health and Life Insurance Company",
         7055648,
         null,
         null,
         "A & H",
         "A & H",
         "PolicyHolder Service",
         "Policy Information",
         "Company Position Substantiated",
         "Provider Issue",
         0.0,
         "Closed"
        ],
        [
         "Anthem Health Plans, Inc",
         7044860,
         null,
         null,
         "A & H",
         "A & H",
         "Claim Handling",
         "Denial",
         "Claim Settled",
         "Claim Paid",
         147.58,
         "Closed"
        ]
       ],
       "datasetInfos": [],
       "dbfsResultPath": null,
       "isJsonSchema": true,
       "metadata": {},
       "overflow": false,
       "plotOptions": {
        "customPlotOptions": {},
        "displayType": "table",
        "pivotAggregation": null,
        "pivotColumns": null,
        "xColumns": null,
        "yColumns": null
       },
       "removedWidgets": [],
       "schema": [
        {
         "metadata": "{}",
         "name": "Company",
         "type": "\"string\""
        },
        {
         "metadata": "{}",
         "name": "FileNo",
         "type": "\"integer\""
        },
        {
         "metadata": "{}",
         "name": "Opened",
         "type": "\"date\""
        },
        {
         "metadata": "{}",
         "name": "Closed",
         "type": "\"date\""
        },
        {
         "metadata": "{}",
         "name": "Coverage",
         "type": "\"string\""
        },
        {
         "metadata": "{}",
         "name": "SubCoverage",
         "type": "\"string\""
        },
        {
         "metadata": "{}",
         "name": "Reason",
         "type": "\"string\""
        },
        {
         "metadata": "{}",
         "name": "SubReason",
         "type": "\"string\""
        },
        {
         "metadata": "{}",
         "name": "Disposition",
         "type": "\"string\""
        },
        {
         "metadata": "{}",
         "name": "Conslusion",
         "type": "\"string\""
        },
        {
         "metadata": "{}",
         "name": "Recovery",
         "type": "\"float\""
        },
        {
         "metadata": "{}",
         "name": "Status",
         "type": "\"string\""
        }
       ],
       "type": "table"
      }
     },
     "output_type": "display_data"
    }
   ],
   "source": [
    "##testing purpose delete later\n",
    "\n",
    "# dl=DataLoader(\"/FileStore/Big_Proj_01/Bronze_Layer/Insurance_Company.csv\")\n",
    "# return_df=dl.create_df()\n",
    "# return_df.limit(10).display()"
   ]
  },
  {
   "cell_type": "code",
   "execution_count": 0,
   "metadata": {
    "application/vnd.databricks.v1+cell": {
     "cellMetadata": {},
     "inputWidgets": {},
     "nuid": "bd43573c-2f12-44ab-9ca7-1fd120e6814c",
     "showTitle": false,
     "title": ""
    }
   },
   "outputs": [],
   "source": []
  }
 ],
 "metadata": {
  "application/vnd.databricks.v1+notebook": {
   "dashboards": [],
   "environmentMetadata": null,
   "language": "python",
   "notebookMetadata": {
    "pythonIndentUnit": 4
   },
   "notebookName": "Data_Loader",
   "widgets": {}
  }
 },
 "nbformat": 4,
 "nbformat_minor": 0
}
