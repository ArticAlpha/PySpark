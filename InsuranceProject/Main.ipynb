{
 "cells": [
  {
   "cell_type": "code",
   "execution_count": 0,
   "metadata": {
    "application/vnd.databricks.v1+cell": {
     "cellMetadata": {
      "byteLimit": 2048000,
      "rowLimit": 10000
     },
     "inputWidgets": {},
     "nuid": "304c8c3b-bd6a-4183-975d-6334a8442125",
     "showTitle": false,
     "title": ""
    }
   },
   "outputs": [],
   "source": [
    "#Creating delta tables for analysis"
   ]
  },
  {
   "cell_type": "code",
   "execution_count": 0,
   "metadata": {
    "application/vnd.databricks.v1+cell": {
     "cellMetadata": {
      "byteLimit": 2048000,
      "implicitDf": true,
      "rowLimit": 10000
     },
     "inputWidgets": {},
     "nuid": "803166c1-ff32-435e-911a-cfd96d657fcd",
     "showTitle": false,
     "title": ""
    }
   },
   "outputs": [
    {
     "output_type": "display_data",
     "data": {
      "text/html": [
       "<style scoped>\n",
       "  .table-result-container {\n",
       "    max-height: 300px;\n",
       "    overflow: auto;\n",
       "  }\n",
       "  table, th, td {\n",
       "    border: 1px solid black;\n",
       "    border-collapse: collapse;\n",
       "  }\n",
       "  th, td {\n",
       "    padding: 5px;\n",
       "  }\n",
       "  th {\n",
       "    text-align: left;\n",
       "  }\n",
       "</style><div class='table-result-container'><table class='table-result'><thead style='background-color: white'><tr><th>num_affected_rows</th><th>num_inserted_rows</th></tr></thead><tbody></tbody></table></div>"
      ]
     },
     "metadata": {
      "application/vnd.databricks.v1+output": {
       "addedWidgets": {},
       "aggData": [],
       "aggError": "",
       "aggOverflow": false,
       "aggSchema": [],
       "aggSeriesLimitReached": false,
       "aggType": "",
       "arguments": {},
       "columnCustomDisplayInfos": {},
       "data": [],
       "datasetInfos": [],
       "dbfsResultPath": null,
       "isJsonSchema": true,
       "metadata": {},
       "overflow": false,
       "plotOptions": {
        "customPlotOptions": {},
        "displayType": "table",
        "pivotAggregation": null,
        "pivotColumns": null,
        "xColumns": null,
        "yColumns": null
       },
       "removedWidgets": [],
       "schema": [
        {
         "metadata": "{}",
         "name": "num_affected_rows",
         "type": "\"long\""
        },
        {
         "metadata": "{}",
         "name": "num_inserted_rows",
         "type": "\"long\""
        }
       ],
       "type": "table"
      }
     },
     "output_type": "display_data"
    }
   ],
   "source": [
    "%sql\n",
    "CREATE OR REPLACE TABLE delta.`/FileStore/Insurance_Proj/Gold_Layer/company_summary` AS\n",
    "SELECT\n",
    "  c.Company AS company_name\n",
    " ,count(ft.FileNo) AS total_claims\n",
    " ,cast(avg(ft.RecoveryAmount) AS DECIMAL(19,4))  AS avg_recovery_amount\n",
    " ,cast(sum(ft.RecoveryAmount) AS DECIMAL(19,4))  AS total_recovery_amount\n",
    " ,sum(CASE WHEN st.status='Closed' THEN 1 ELSE 0 END) AS closed_claims\n",
    " ,sum(CASE WHEN st.status!='Closed' THEN 1 ELSE 0 END) AS opened_claims\n",
    "FROM delta.`/FileStore/Insurance_Proj/Silver_Layer/Delta_Tables/fact` ft \n",
    "join delta.`/FileStore/Insurance_Proj/Silver_Layer/Delta_Tables/company` AS c  on c.companyid=ft.companyid\n",
    "join delta.`/FileStore/Insurance_Proj/Silver_Layer/Delta_Tables/status`  AS st on ft.statusid=st.statusid\n",
    "group by Company\n"
   ]
  },
  {
   "cell_type": "code",
   "execution_count": 0,
   "metadata": {
    "application/vnd.databricks.v1+cell": {
     "cellMetadata": {
      "byteLimit": 2048000,
      "implicitDf": true,
      "rowLimit": 10000
     },
     "inputWidgets": {},
     "nuid": "69e03876-c27e-40c4-af40-e2cfe1dbcdc6",
     "showTitle": false,
     "title": ""
    }
   },
   "outputs": [
    {
     "output_type": "display_data",
     "data": {
      "text/html": [
       "<style scoped>\n",
       "  .table-result-container {\n",
       "    max-height: 300px;\n",
       "    overflow: auto;\n",
       "  }\n",
       "  table, th, td {\n",
       "    border: 1px solid black;\n",
       "    border-collapse: collapse;\n",
       "  }\n",
       "  th, td {\n",
       "    padding: 5px;\n",
       "  }\n",
       "  th {\n",
       "    text-align: left;\n",
       "  }\n",
       "</style><div class='table-result-container'><table class='table-result'><thead style='background-color: white'><tr><th>num_affected_rows</th><th>num_inserted_rows</th></tr></thead><tbody></tbody></table></div>"
      ]
     },
     "metadata": {
      "application/vnd.databricks.v1+output": {
       "addedWidgets": {},
       "aggData": [],
       "aggError": "",
       "aggOverflow": false,
       "aggSchema": [],
       "aggSeriesLimitReached": false,
       "aggType": "",
       "arguments": {},
       "columnCustomDisplayInfos": {},
       "data": [],
       "datasetInfos": [],
       "dbfsResultPath": null,
       "isJsonSchema": true,
       "metadata": {},
       "overflow": false,
       "plotOptions": {
        "customPlotOptions": {},
        "displayType": "table",
        "pivotAggregation": null,
        "pivotColumns": null,
        "xColumns": null,
        "yColumns": null
       },
       "removedWidgets": [],
       "schema": [
        {
         "metadata": "{}",
         "name": "num_affected_rows",
         "type": "\"long\""
        },
        {
         "metadata": "{}",
         "name": "num_inserted_rows",
         "type": "\"long\""
        }
       ],
       "type": "table"
      }
     },
     "output_type": "display_data"
    }
   ],
   "source": [
    "%sql\n",
    "CREATE OR REPLACE TABLE delta.`/FileStore/Insurance_Proj/Gold_Layer/coverage_summary` AS\n",
    "SELECT\n",
    "    Coverage,\n",
    "    SubCoverage,\n",
    "    COUNT(DISTINCT FileNo) AS total_claims,\n",
    "    CAST(SUM(ft.RecoveryAmount) AS DECIMAL(19,4)) AS total_recovery,\n",
    "    CAST(AVG(ft.RecoveryAmount) AS DECIMAL(19,4)) AS avg_recovery,\n",
    "    COUNT(CASE WHEN Status = 'Closed' THEN 1 END) AS closed_claims\n",
    "FROM delta.`/FileStore/Insurance_Proj/Silver_Layer/Delta_Tables/fact` AS ft \n",
    "join delta.`/FileStore/Insurance_Proj/Silver_Layer/Delta_Tables/coverage/` AS cv on cv.coverageid=ft.coverageid\n",
    "join delta.`/FileStore/Insurance_Proj/Silver_Layer/Delta_Tables/subcoverage/` AS sc on sc.subcoverageid=ft.subcoverageid\n",
    "join delta.`/FileStore/Insurance_Proj/Silver_Layer/Delta_Tables/status`  AS st on ft.statusid=st.statusid\n",
    "GROUP BY Coverage, SubCoverage;\n"
   ]
  },
  {
   "cell_type": "code",
   "execution_count": 0,
   "metadata": {
    "application/vnd.databricks.v1+cell": {
     "cellMetadata": {
      "byteLimit": 2048000,
      "implicitDf": true,
      "rowLimit": 10000
     },
     "inputWidgets": {},
     "nuid": "6623e7e1-e9b7-4c57-bc7e-b5584f970730",
     "showTitle": false,
     "title": ""
    }
   },
   "outputs": [
    {
     "output_type": "display_data",
     "data": {
      "text/html": [
       "<style scoped>\n",
       "  .table-result-container {\n",
       "    max-height: 300px;\n",
       "    overflow: auto;\n",
       "  }\n",
       "  table, th, td {\n",
       "    border: 1px solid black;\n",
       "    border-collapse: collapse;\n",
       "  }\n",
       "  th, td {\n",
       "    padding: 5px;\n",
       "  }\n",
       "  th {\n",
       "    text-align: left;\n",
       "  }\n",
       "</style><div class='table-result-container'><table class='table-result'><thead style='background-color: white'><tr><th>num_affected_rows</th><th>num_inserted_rows</th></tr></thead><tbody></tbody></table></div>"
      ]
     },
     "metadata": {
      "application/vnd.databricks.v1+output": {
       "addedWidgets": {},
       "aggData": [],
       "aggError": "",
       "aggOverflow": false,
       "aggSchema": [],
       "aggSeriesLimitReached": false,
       "aggType": "",
       "arguments": {},
       "columnCustomDisplayInfos": {},
       "data": [],
       "datasetInfos": [],
       "dbfsResultPath": null,
       "isJsonSchema": true,
       "metadata": {},
       "overflow": false,
       "plotOptions": {
        "customPlotOptions": {},
        "displayType": "table",
        "pivotAggregation": null,
        "pivotColumns": null,
        "xColumns": null,
        "yColumns": null
       },
       "removedWidgets": [],
       "schema": [
        {
         "metadata": "{}",
         "name": "num_affected_rows",
         "type": "\"long\""
        },
        {
         "metadata": "{}",
         "name": "num_inserted_rows",
         "type": "\"long\""
        }
       ],
       "type": "table"
      }
     },
     "output_type": "display_data"
    }
   ],
   "source": [
    "%sql\n",
    "CREATE OR REPLACE TABLE delta.`/FileStore/Insurance_Proj/Gold_Layer/reason_summary` AS\n",
    "SELECT\n",
    "    Reason AS reason,\n",
    "    SubReason AS sub_reason,\n",
    "    COUNT(DISTINCT `FileNo`) AS total_claims,\n",
    "    CAST(SUM(ft.RecoveryAmount) AS DECIMAL(19,4)) AS total_recovery,\n",
    "    COUNT(CASE WHEN Conclusion = 'Claim Settled' THEN 1 END) AS settled_claims,\n",
    "    COUNT(CASE WHEN Conclusion = 'Claim Paid' THEN 1 END) AS paid_claims,\n",
    "    COUNT(CASE WHEN Conclusion = 'Company Position Upheld' THEN 1 END) AS company_upheld_claims\n",
    "FROM delta.`/FileStore/Insurance_Proj/Silver_Layer/Delta_Tables/fact` AS ft \n",
    "join delta.`/FileStore/Insurance_Proj/Silver_Layer/Delta_Tables/reason/` AS r on r.reasonid=ft.reasonid\n",
    "join delta.`/FileStore/Insurance_Proj/Silver_Layer/Delta_Tables/subreason/` AS sr on sr.subreasonid=ft.subreasonid\n",
    "join delta.`/FileStore/Insurance_Proj/Silver_Layer/Delta_Tables/conclusion/` AS cl on cl.conclusionid=ft.conclusionid\n",
    "GROUP BY Reason, SubReason;"
   ]
  },
  {
   "cell_type": "code",
   "execution_count": 0,
   "metadata": {
    "application/vnd.databricks.v1+cell": {
     "cellMetadata": {
      "byteLimit": 2048000,
      "implicitDf": true,
      "rowLimit": 10000
     },
     "inputWidgets": {},
     "nuid": "76077edd-99e7-4a9e-bcb5-4d0539867ae7",
     "showTitle": false,
     "title": ""
    }
   },
   "outputs": [
    {
     "output_type": "display_data",
     "data": {
      "text/html": [
       "<style scoped>\n",
       "  .table-result-container {\n",
       "    max-height: 300px;\n",
       "    overflow: auto;\n",
       "  }\n",
       "  table, th, td {\n",
       "    border: 1px solid black;\n",
       "    border-collapse: collapse;\n",
       "  }\n",
       "  th, td {\n",
       "    padding: 5px;\n",
       "  }\n",
       "  th {\n",
       "    text-align: left;\n",
       "  }\n",
       "</style><div class='table-result-container'><table class='table-result'><thead style='background-color: white'><tr><th>num_affected_rows</th><th>num_inserted_rows</th></tr></thead><tbody></tbody></table></div>"
      ]
     },
     "metadata": {
      "application/vnd.databricks.v1+output": {
       "addedWidgets": {},
       "aggData": [],
       "aggError": "",
       "aggOverflow": false,
       "aggSchema": [],
       "aggSeriesLimitReached": false,
       "aggType": "",
       "arguments": {},
       "columnCustomDisplayInfos": {},
       "data": [],
       "datasetInfos": [],
       "dbfsResultPath": null,
       "isJsonSchema": true,
       "metadata": {},
       "overflow": false,
       "plotOptions": {
        "customPlotOptions": {},
        "displayType": "table",
        "pivotAggregation": null,
        "pivotColumns": null,
        "xColumns": null,
        "yColumns": null
       },
       "removedWidgets": [],
       "schema": [
        {
         "metadata": "{}",
         "name": "num_affected_rows",
         "type": "\"long\""
        },
        {
         "metadata": "{}",
         "name": "num_inserted_rows",
         "type": "\"long\""
        }
       ],
       "type": "table"
      }
     },
     "output_type": "display_data"
    }
   ],
   "source": [
    "%sql\n",
    "CREATE OR REPLACE TABLE delta.`/FileStore/Insurance_Proj/Gold_Layer/reason_summary/disposition_conclusion_summary` AS\n",
    "SELECT\n",
    "    Disposition,\n",
    "    Conclusion,\n",
    "    COUNT(DISTINCT `FileNo`) AS total_claims,\n",
    "    CAST(SUM(ft.RecoveryAmount) AS DECIMAL(19,4)) AS total_recovery,\n",
    "    COUNT(CASE WHEN Conclusion = 'Claim Settled' THEN 1 END) AS settled_claims,\n",
    "    COUNT(CASE WHEN Conclusion = 'Company Position Upheld' THEN 1 END) AS upheld_claims\n",
    "FROM delta.`/FileStore/Insurance_Proj/Silver_Layer/Delta_Tables/fact` AS ft \n",
    "join delta.`/FileStore/Insurance_Proj/Silver_Layer/Delta_Tables/disposition/` AS dp on dp.dispositionid=ft.dispositionid\n",
    "join delta.`/FileStore/Insurance_Proj/Silver_Layer/Delta_Tables/conclusion/` AS cl on cl.conclusionid=ft.conclusionid\n",
    "GROUP BY Disposition, Conclusion;\n"
   ]
  },
  {
   "cell_type": "code",
   "execution_count": 0,
   "metadata": {
    "application/vnd.databricks.v1+cell": {
     "cellMetadata": {
      "byteLimit": 2048000,
      "implicitDf": true,
      "rowLimit": 10000
     },
     "inputWidgets": {},
     "nuid": "a68bd47b-0312-4001-ac1f-a76da2231f0e",
     "showTitle": false,
     "title": ""
    }
   },
   "outputs": [
    {
     "output_type": "display_data",
     "data": {
      "text/html": [
       "<style scoped>\n",
       "  .table-result-container {\n",
       "    max-height: 300px;\n",
       "    overflow: auto;\n",
       "  }\n",
       "  table, th, td {\n",
       "    border: 1px solid black;\n",
       "    border-collapse: collapse;\n",
       "  }\n",
       "  th, td {\n",
       "    padding: 5px;\n",
       "  }\n",
       "  th {\n",
       "    text-align: left;\n",
       "  }\n",
       "</style><div class='table-result-container'><table class='table-result'><thead style='background-color: white'><tr><th>num_affected_rows</th><th>num_inserted_rows</th></tr></thead><tbody></tbody></table></div>"
      ]
     },
     "metadata": {
      "application/vnd.databricks.v1+output": {
       "addedWidgets": {},
       "aggData": [],
       "aggError": "",
       "aggOverflow": false,
       "aggSchema": [],
       "aggSeriesLimitReached": false,
       "aggType": "",
       "arguments": {},
       "columnCustomDisplayInfos": {},
       "data": [],
       "datasetInfos": [],
       "dbfsResultPath": null,
       "isJsonSchema": true,
       "metadata": {},
       "overflow": false,
       "plotOptions": {
        "customPlotOptions": {},
        "displayType": "table",
        "pivotAggregation": null,
        "pivotColumns": null,
        "xColumns": null,
        "yColumns": null
       },
       "removedWidgets": [],
       "schema": [
        {
         "metadata": "{}",
         "name": "num_affected_rows",
         "type": "\"long\""
        },
        {
         "metadata": "{}",
         "name": "num_inserted_rows",
         "type": "\"long\""
        }
       ],
       "type": "table"
      }
     },
     "output_type": "display_data"
    }
   ],
   "source": [
    "%sql\n",
    "CREATE OR REPLACE TABLE delta.`/FileStore/Insurance_Proj/Gold_Layer/time_based_claims_summary` AS\n",
    "SELECT\n",
    "    YEAR(ft.OpenedDate) AS opened_year,\n",
    "    MONTH(ft.OpenedDate) AS opened_month,\n",
    "    COUNT(DISTINCT FileNo) AS claims_opened,\n",
    "    COUNT(CASE WHEN Status = 'Closed' THEN 1 END) AS claims_closed,\n",
    "    CAST(SUM(ft.RecoveryAmount) AS DECIMAL(19,4)) AS total_recovery\n",
    "FROM delta.`/FileStore/Insurance_Proj/Silver_Layer/Delta_Tables/fact` AS ft \n",
    "join delta.`/FileStore/Insurance_Proj/Silver_Layer/Delta_Tables/status`  AS st on ft.statusid=st.statusid\n",
    "GROUP BY YEAR(ft.OpenedDate), MONTH(ft.OpenedDate);\n"
   ]
  },
  {
   "cell_type": "code",
   "execution_count": 0,
   "metadata": {
    "application/vnd.databricks.v1+cell": {
     "cellMetadata": {
      "byteLimit": 2048000,
      "implicitDf": true,
      "rowLimit": 10000
     },
     "inputWidgets": {},
     "nuid": "f1fb54bc-de3d-42b9-a940-f2a993c1408f",
     "showTitle": false,
     "title": ""
    }
   },
   "outputs": [
    {
     "output_type": "display_data",
     "data": {
      "text/html": [
       "<style scoped>\n",
       "  .table-result-container {\n",
       "    max-height: 300px;\n",
       "    overflow: auto;\n",
       "  }\n",
       "  table, th, td {\n",
       "    border: 1px solid black;\n",
       "    border-collapse: collapse;\n",
       "  }\n",
       "  th, td {\n",
       "    padding: 5px;\n",
       "  }\n",
       "  th {\n",
       "    text-align: left;\n",
       "  }\n",
       "</style><div class='table-result-container'><table class='table-result'><thead style='background-color: white'><tr><th>num_affected_rows</th><th>num_inserted_rows</th></tr></thead><tbody></tbody></table></div>"
      ]
     },
     "metadata": {
      "application/vnd.databricks.v1+output": {
       "addedWidgets": {},
       "aggData": [],
       "aggError": "",
       "aggOverflow": false,
       "aggSchema": [],
       "aggSeriesLimitReached": false,
       "aggType": "",
       "arguments": {},
       "columnCustomDisplayInfos": {},
       "data": [],
       "datasetInfos": [],
       "dbfsResultPath": null,
       "isJsonSchema": true,
       "metadata": {},
       "overflow": false,
       "plotOptions": {
        "customPlotOptions": {},
        "displayType": "table",
        "pivotAggregation": null,
        "pivotColumns": null,
        "xColumns": null,
        "yColumns": null
       },
       "removedWidgets": [],
       "schema": [
        {
         "metadata": "{}",
         "name": "num_affected_rows",
         "type": "\"long\""
        },
        {
         "metadata": "{}",
         "name": "num_inserted_rows",
         "type": "\"long\""
        }
       ],
       "type": "table"
      }
     },
     "output_type": "display_data"
    }
   ],
   "source": [
    "%sql\n",
    "CREATE OR REPLACE TABLE delta.`/FileStore/Insurance_Proj/Gold_Layer/company_based_claims_summary` AS\n",
    "SELECT\n",
    "    c.Company as company,\n",
    "    YEAR(ft.OpenedDate) AS opened_year,\n",
    "    MONTH(ft.OpenedDate) AS opened_month,\n",
    "    COUNT(DISTINCT FileNo) AS claims_opened,\n",
    "    COUNT(CASE WHEN Status = 'Closed' THEN 1 END) AS claims_closed,\n",
    "    CAST(SUM(ft.RecoveryAmount) AS DECIMAL(19,4)) AS total_recovery\n",
    "FROM delta.`/FileStore/Insurance_Proj/Silver_Layer/Delta_Tables/fact` AS ft \n",
    "join delta.`/FileStore/Insurance_Proj/Silver_Layer/Delta_Tables/company` AS c  on c.companyid=ft.companyid\n",
    "join delta.`/FileStore/Insurance_Proj/Silver_Layer/Delta_Tables/status`  AS st on ft.statusid=st.statusid\n",
    "GROUP BY YEAR(ft.OpenedDate), MONTH(ft.OpenedDate), c.Company\n",
    "order by c.Company"
   ]
  },
  {
   "cell_type": "code",
   "execution_count": 0,
   "metadata": {
    "application/vnd.databricks.v1+cell": {
     "cellMetadata": {
      "byteLimit": 2048000,
      "implicitDf": true,
      "rowLimit": 10000
     },
     "inputWidgets": {},
     "nuid": "cfe50d2d-5aff-4804-a815-52233a6dc0c7",
     "showTitle": false,
     "title": ""
    }
   },
   "outputs": [
    {
     "output_type": "display_data",
     "data": {
      "text/html": [
       "<style scoped>\n",
       "  .table-result-container {\n",
       "    max-height: 300px;\n",
       "    overflow: auto;\n",
       "  }\n",
       "  table, th, td {\n",
       "    border: 1px solid black;\n",
       "    border-collapse: collapse;\n",
       "  }\n",
       "  th, td {\n",
       "    padding: 5px;\n",
       "  }\n",
       "  th {\n",
       "    text-align: left;\n",
       "  }\n",
       "</style><div class='table-result-container'><table class='table-result'><thead style='background-color: white'><tr><th>num_affected_rows</th><th>num_inserted_rows</th></tr></thead><tbody></tbody></table></div>"
      ]
     },
     "metadata": {
      "application/vnd.databricks.v1+output": {
       "addedWidgets": {},
       "aggData": [],
       "aggError": "",
       "aggOverflow": false,
       "aggSchema": [],
       "aggSeriesLimitReached": false,
       "aggType": "",
       "arguments": {},
       "columnCustomDisplayInfos": {},
       "data": [],
       "datasetInfos": [],
       "dbfsResultPath": null,
       "isJsonSchema": true,
       "metadata": {},
       "overflow": false,
       "plotOptions": {
        "customPlotOptions": {},
        "displayType": "table",
        "pivotAggregation": null,
        "pivotColumns": null,
        "xColumns": null,
        "yColumns": null
       },
       "removedWidgets": [],
       "schema": [
        {
         "metadata": "{}",
         "name": "num_affected_rows",
         "type": "\"long\""
        },
        {
         "metadata": "{}",
         "name": "num_inserted_rows",
         "type": "\"long\""
        }
       ],
       "type": "table"
      }
     },
     "output_type": "display_data"
    }
   ],
   "source": [
    "%sql\n",
    "CREATE OR REPLACE TABLE delta.`/FileStore/Insurance_Proj/Gold_Layer/status_summary` AS\n",
    "SELECT\n",
    "    Status,\n",
    "    COUNT(DISTINCT FileNo) AS total_claims,\n",
    "    CAST(SUM(ft.RecoveryAmount) AS DECIMAL(19,4)) AS total_recovery\n",
    "FROM delta.`/FileStore/Insurance_Proj/Silver_Layer/Delta_Tables/fact` AS ft \n",
    "join delta.`/FileStore/Insurance_Proj/Silver_Layer/Delta_Tables/status`  AS st on ft.statusid=st.statusid\n",
    "GROUP BY Status;\n"
   ]
  },
  {
   "cell_type": "code",
   "execution_count": 0,
   "metadata": {
    "application/vnd.databricks.v1+cell": {
     "cellMetadata": {
      "byteLimit": 2048000,
      "rowLimit": 10000
     },
     "inputWidgets": {},
     "nuid": "9c3e7407-9c96-499e-bc83-ed80b4068da4",
     "showTitle": false,
     "title": ""
    }
   },
   "outputs": [],
   "source": []
  }
 ],
 "metadata": {
  "application/vnd.databricks.v1+notebook": {
   "dashboards": [],
   "environmentMetadata": null,
   "language": "python",
   "notebookMetadata": {
    "mostRecentlyExecutedCommandWithImplicitDF": {
     "commandId": 4282052798554212,
     "dataframes": [
      "_sqldf"
     ]
    },
    "pythonIndentUnit": 4
   },
   "notebookName": "Main",
   "widgets": {}
  }
 },
 "nbformat": 4,
 "nbformat_minor": 0
}
