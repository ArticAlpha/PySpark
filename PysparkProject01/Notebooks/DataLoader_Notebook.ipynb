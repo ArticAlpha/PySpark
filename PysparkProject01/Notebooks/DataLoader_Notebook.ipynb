{
 "cells": [
  {
   "cell_type": "code",
   "execution_count": 0,
   "metadata": {
    "application/vnd.databricks.v1+cell": {
     "cellMetadata": {
      "byteLimit": 2048000,
      "rowLimit": 10000
     },
     "inputWidgets": {},
     "nuid": "eb5ee639-e5a5-4a49-864b-c5bf57d859f7",
     "showTitle": false,
     "title": ""
    }
   },
   "outputs": [],
   "source": [
    "from pyspark.sql.types import StructType, StructField, IntegerType, StringType, DateType\n",
    "\n",
    "class data_loader:\n",
    "\n",
    "    def __init__(self):\n",
    "        pass\n",
    "\n",
    "    def load_sales_df(self,path):\n",
    "\n",
    "        schema = StructType([\n",
    "        StructField('product_id',IntegerType(),True),\n",
    "        StructField('customer_id',StringType(),True),\n",
    "        StructField('order_date',DateType(),True),\n",
    "        StructField('location',StringType(),True),\n",
    "        StructField('source_order',StringType(),True),\n",
    "        ])  \n",
    "\n",
    "        sales_df = spark.read.format('csv').options(\n",
    "         ignoreLeadingWhiteSpace=True,  # Ignore leading white space in values\n",
    "        ignoreTrailingWhiteSpace=True, # Ignore trailing white space in values\n",
    "        ).schema(schema).load(path)\n",
    "        return sales_df\n",
    "    \n",
    "    def load_menu_df(self,path):\n",
    "        menu_schema=StructType([\n",
    "                            StructField(\"product_id\",IntegerType(),True),\n",
    "                            StructField(\"product_name\",StringType(),True),\n",
    "                            StructField(\"price\",IntegerType(),True),\n",
    "                            ])\n",
    "\n",
    "        menu_df=spark.read.format(\"csv\").options(\n",
    "                ignoreLeadingWhiteSpace=True,  # Ignore leading white space in values\n",
    "                ignoreTrailingWhiteSpace=True, # Ignore trailing white space in values\n",
    "            ).schema(menu_schema).load(path)\n",
    "        return menu_df"
   ]
  },
  {
   "cell_type": "code",
   "execution_count": 0,
   "metadata": {
    "application/vnd.databricks.v1+cell": {
     "cellMetadata": {},
     "inputWidgets": {},
     "nuid": "05ca7f34-7d26-43f4-b542-5cd67adaa60a",
     "showTitle": false,
     "title": ""
    }
   },
   "outputs": [],
   "source": []
  }
 ],
 "metadata": {
  "application/vnd.databricks.v1+notebook": {
   "dashboards": [],
   "environmentMetadata": null,
   "language": "python",
   "notebookMetadata": {
    "pythonIndentUnit": 4
   },
   "notebookName": "DataLoader_Notebook",
   "widgets": {}
  }
 },
 "nbformat": 4,
 "nbformat_minor": 0
}
