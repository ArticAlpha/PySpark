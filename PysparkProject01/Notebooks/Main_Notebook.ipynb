{
 "cells": [
  {
   "cell_type": "code",
   "execution_count": 0,
   "metadata": {
    "application/vnd.databricks.v1+cell": {
     "cellMetadata": {
      "byteLimit": 2048000,
      "rowLimit": 10000
     },
     "inputWidgets": {},
     "nuid": "ee1c0c20-4901-41a0-89c9-84cc190599c8",
     "showTitle": false,
     "title": ""
    }
   },
   "outputs": [],
   "source": [
    "\n",
    "%run \"/Users/sunnynuri12@gmail.com/Pyspark_Project01/Project01_Object_Oriented/Import_Notebooks\"\n",
    "\n"
   ]
  },
  {
   "cell_type": "code",
   "execution_count": 0,
   "metadata": {
    "application/vnd.databricks.v1+cell": {
     "cellMetadata": {
      "byteLimit": 2048000,
      "rowLimit": 10000
     },
     "inputWidgets": {},
     "nuid": "3150e89a-9c50-462f-b65e-beb2ccc6f900",
     "showTitle": false,
     "title": ""
    }
   },
   "outputs": [
    {
     "output_type": "stream",
     "name": "stdout",
     "output_type": "stream",
     "text": [
      "+-----------+----------+\n|customer_id|sum(price)|\n+-----------+----------+\n|          A|      4260|\n|          B|      4440|\n|          C|      2400|\n|          D|      1200|\n|          E|      2040|\n+-----------+----------+\n\n"
     ]
    }
   ],
   "source": [
    "dataload=data_loader()\n",
    "\n",
    "sales_df=dataload.load_sales_df(\"/FileStore/tables/sales_csv.txt\")\n",
    "#sales_df.show(2)\n",
    "\n",
    "menu_df=dataload.load_menu_df(\"/FileStore/tables/menu_csv.txt\")\n",
    "# menu_df.show(3)\n",
    "\n",
    "\n",
    "data_transform=DataTransformer(sales_df)\n",
    "sales_df_trasformed=data_transform.add_date_columns()\n",
    "# sales_df_trasformed.show(3)\n",
    "\n",
    "data_analyzer=DataAnalyzer(sales_df,menu_df)\n",
    "total_amount=data_analyzer.calculate_total_amount_spent()\n",
    "total_amount.show()"
   ]
  },
  {
   "cell_type": "code",
   "execution_count": 0,
   "metadata": {
    "application/vnd.databricks.v1+cell": {
     "cellMetadata": {
      "byteLimit": 2048000,
      "rowLimit": 10000
     },
     "inputWidgets": {},
     "nuid": "d28d1c92-fede-4c37-87f6-88b18ce30bae",
     "showTitle": false,
     "title": ""
    }
   },
   "outputs": [],
   "source": []
  }
 ],
 "metadata": {
  "application/vnd.databricks.v1+notebook": {
   "dashboards": [],
   "environmentMetadata": null,
   "language": "python",
   "notebookMetadata": {
    "pythonIndentUnit": 4
   },
   "notebookName": "Main_Notebook",
   "widgets": {}
  }
 },
 "nbformat": 4,
 "nbformat_minor": 0
}
