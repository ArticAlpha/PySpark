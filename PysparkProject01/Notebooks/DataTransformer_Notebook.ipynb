{
 "cells": [
  {
   "cell_type": "code",
   "execution_count": 0,
   "metadata": {
    "application/vnd.databricks.v1+cell": {
     "cellMetadata": {
      "byteLimit": 2048000,
      "rowLimit": 10000
     },
     "inputWidgets": {},
     "nuid": "d393ca88-1d83-4941-a549-b084814c309e",
     "showTitle": false,
     "title": ""
    }
   },
   "outputs": [],
   "source": [
    "from pyspark.sql.functions import year, month, quarter\n",
    "\n",
    "class DataTransformer:\n",
    "    def __init__(self,df:'Dataframe'):\n",
    "        self.df=df\n",
    "\n",
    "    def add_date_columns(self) ->'Dataframe':\n",
    "        transformed_df=self.df.withColumn(\"order_year\", year(sales_df.order_date)) \\\n",
    "                              .withColumn(\"order_month\", month(sales_df.order_date)) \\\n",
    "                              .withColumn(\"order_quarter\", quarter(sales_df.order_date)) \n",
    "        return transformed_df "
   ]
  },
  {
   "cell_type": "code",
   "execution_count": 0,
   "metadata": {
    "application/vnd.databricks.v1+cell": {
     "cellMetadata": {},
     "inputWidgets": {},
     "nuid": "66b1fb2c-a94a-4d25-bd57-14a1391e89dc",
     "showTitle": false,
     "title": ""
    }
   },
   "outputs": [],
   "source": []
  }
 ],
 "metadata": {
  "application/vnd.databricks.v1+notebook": {
   "dashboards": [],
   "environmentMetadata": null,
   "language": "python",
   "notebookMetadata": {
    "pythonIndentUnit": 4
   },
   "notebookName": "DataTransformer_Notebook",
   "widgets": {}
  }
 },
 "nbformat": 4,
 "nbformat_minor": 0
}
