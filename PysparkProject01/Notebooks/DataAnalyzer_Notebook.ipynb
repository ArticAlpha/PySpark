{
 "cells": [
  {
   "cell_type": "code",
   "execution_count": 0,
   "metadata": {
    "application/vnd.databricks.v1+cell": {
     "cellMetadata": {
      "byteLimit": 2048000,
      "rowLimit": 10000
     },
     "inputWidgets": {},
     "nuid": "1156d2ea-8aea-4f93-ba1f-1c502a098a79",
     "showTitle": false,
     "title": ""
    }
   },
   "outputs": [],
   "source": [
    "from pyspark.sql.functions import year, month, quarter, sum, desc\n",
    "\n",
    "class DataAnalyzer:\n",
    "    def __init__(self,sales_df,menu_df):\n",
    "        self.sales_df=sales_df\n",
    "        self.menu_df=menu_df\n",
    "\n",
    "    def calculate_total_amount_spent(self):\n",
    "        joined_df = sales_df.join(menu_df, on=\"product_id\", how=\"inner\")\n",
    "        total_amount_by_customer=joined_df.groupBy(\"customer_id\").agg({\"price\":\"sum\"}).orderBy(\"customer_id\")\n",
    "        return total_amount_by_customer\n"
   ]
  },
  {
   "cell_type": "code",
   "execution_count": 0,
   "metadata": {
    "application/vnd.databricks.v1+cell": {
     "cellMetadata": {},
     "inputWidgets": {},
     "nuid": "0603ea71-46bd-4fd3-be4b-3979e8159caa",
     "showTitle": false,
     "title": ""
    }
   },
   "outputs": [],
   "source": []
  }
 ],
 "metadata": {
  "application/vnd.databricks.v1+notebook": {
   "dashboards": [],
   "environmentMetadata": null,
   "language": "python",
   "notebookMetadata": {
    "pythonIndentUnit": 4
   },
   "notebookName": "DataAnalyzer_Notebook",
   "widgets": {}
  }
 },
 "nbformat": 4,
 "nbformat_minor": 0
}
